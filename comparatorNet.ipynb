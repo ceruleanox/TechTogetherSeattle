{
 "metadata": {
  "language_info": {
   "codemirror_mode": {
    "name": "ipython",
    "version": 3
   },
   "file_extension": ".py",
   "mimetype": "text/x-python",
   "name": "python",
   "nbconvert_exporter": "python",
   "pygments_lexer": "ipython3",
   "version": 3
  },
  "orig_nbformat": 2
 },
 "nbformat": 4,
 "nbformat_minor": 2,
 "cells": [
  {
   "cell_type": "code",
   "execution_count": null,
   "metadata": {},
   "outputs": [],
   "source": [
    "import os\n",
    "import numpy as np\n",
    "import matplotlib.pyplot as plt\n",
    "from itertools import combinations\n",
    "from sklearn.metrics import roc_curve\n",
    "from sklearn.metrics import roc_auc_score\n",
    "from sklearn.utils import resample\n",
    "from sklearn.model_selection import train_test_split\n",
    "from tqdm import tqdm\n",
    "\n",
    "# os.environ[\"KERAS_BACKEND\"] = \"plaidml.keras.backend\"\n",
    "\n",
    "from keras.models import Sequential\n",
    "from keras.layers import Dense, Activation, BatchNormalization, Dropout\n",
    "from keras.callbacks import CSVLogger"
   ]
  },
  {
   "cell_type": "code",
   "execution_count": null,
   "metadata": {},
   "outputs": [],
   "source": [
    "X_data = []\n",
    "y_data = []\n",
    "k = 0\n",
    "for f in os.scandir(\"./coords/openpose\"):\n",
    "    if f.is_file() and f.name != '.DS_Store':\n",
    "        x = np.load(f)\n",
    "        \n",
    "        # Remove empty coords\n",
    "        x = [coords for coords in x if 1 in coords.shape]\n",
    "        x = np.concatenate(x)\n",
    "        X_data.append(x)\n",
    "        y_data.extend([k]*x.shape[0])\n",
    "        k += 1\n",
    "\n",
    "X_data = np.concatenate(X_data)\n",
    "y_data = np.array(y_data)\n",
    "\n",
    "# Sanity check\n",
    "print(\"X_data shape: {}\".format(X_data.shape))\n",
    "print(\"y_data shape: {}\".format(y_data.shape))"
   ]
  },
  {
   "cell_type": "code",
   "execution_count": null,
   "metadata": {},
   "outputs": [],
   "source": [
    "def scale_transform_normalize(coords):\n",
    "    \"\"\"\n",
    "    Parameters:\n",
    "    coords (ndarray): array of (x,y,c) coordinates\n",
    "\n",
    "    Returns:\n",
    "    ndarray: coords scaled to 1x1 with center at (0,0)\n",
    "    ndarray: confidence scores of each joint\n",
    "    \"\"\"\n",
    "    coords, scores = coords[:,:,:-1], coords[:,:,-1]\n",
    "    diff = coords.max(axis=1) - coords.min(axis=1)\n",
    "    diff_max = np.max(diff, axis=0)\n",
    "    mean = coords.mean(axis=1).reshape(coords.shape[0],1,coords.shape[-1])\n",
    "    out = (coords - mean) / diff_max\n",
    "    \n",
    "    return out, scores"
   ]
  },
  {
   "cell_type": "code",
   "execution_count": null,
   "metadata": {},
   "outputs": [],
   "source": [
    "N,D,C = X_data.shape\n",
    "\n",
    "# Prepare X\n",
    "X_norm, scores = scale_transform_normalize(X_data)\n",
    "scores = scores.reshape((N, D, 1))\n",
    "X_data = np.concatenate([X_norm, scores], axis=2)\n",
    "X_data /= np.linalg.norm(X_data, axis=2)[:, :, np.newaxis]\n",
    "X = []\n",
    "\n",
    "# Prepare y\n",
    "y = []\n",
    "\n",
    "# Grab every possible combination of 2 rows\n",
    "for index in tqdm(combinations(np.arange(N), 2)):\n",
    "    vec_1 = X_data[index[0]]\n",
    "    vec_2 = X_data[index[1]]\n",
    "    X.append(np.concatenate([vec_1, vec_2]).flatten())\n",
    "    y.append(int(y_data[index[0]] == y_data[index[1]]))"
   ]
  },
  {
   "cell_type": "code",
   "execution_count": null,
   "metadata": {},
   "outputs": [],
   "source": [
    "# Downsample majority class\n",
    "X = np.array(X)\n",
    "y = np.array(y)\n",
    "trues = X[y == 1]\n",
    "falses = X[y == 0]\n",
    "small_falses = resample(falses, n_samples=trues.shape[0])\n",
    "\n",
    "balanced_X = np.concatenate([trues, small_falses])\n",
    "balanced_y = np.concatenate([np.ones((trues.shape[0],)), np.zeros((trues.shape[0]))])"
   ]
  },
  {
   "cell_type": "code",
   "execution_count": null,
   "metadata": {},
   "outputs": [],
   "source": [
    "# Split data\n",
    "X_train, X_test, y_train, y_test = train_test_split(balanced_X, balanced_y, test_size=0.33)\n",
    "\n",
    "# Define network\n",
    "model = Sequential([\n",
    "    Dense(128, input_shape=(X_train.shape[1],)),\n",
    "    BatchNormalization(),\n",
    "    Activation('relu'),\n",
    "    Dense(128),\n",
    "    BatchNormalization(),\n",
    "    Activation('relu'),\n",
    "    Dense(1),\n",
    "    BatchNormalization(),\n",
    "    Activation('sigmoid'),\n",
    "])\n",
    "\n",
    "model.compile(optimizer='adam',\n",
    "              loss='binary_crossentropy',\n",
    "              metrics=['accuracy'])"
   ]
  },
  {
   "cell_type": "code",
   "execution_count": null,
   "metadata": {},
   "outputs": [],
   "source": [
    "# Train\n",
    "csv_logger = CSVLogger(\"model_history_log.csv\", append=True)\n",
    "history = model.fit(x=X_train, y=y_train,\n",
    "                    batch_size=32, epochs=100,\n",
    "                    verbose=2, validation_split=0.33,\n",
    "                    callbacks=[csv_logger])"
   ]
  },
  {
   "cell_type": "code",
   "execution_count": null,
   "metadata": {},
   "outputs": [],
   "source": [
    "# summarize history for accuracy\n",
    "plt.plot(history.history['acc'])\n",
    "plt.plot(history.history['val_acc'])\n",
    "plt.title('model accuracy')\n",
    "plt.ylabel('accuracy')\n",
    "plt.xlabel('epoch')\n",
    "plt.legend(['train', 'test'], loc='upper left')\n",
    "plt.show()\n",
    "\n",
    "# summarize history for loss\n",
    "plt.plot(history.history['loss'])\n",
    "plt.plot(history.history['val_loss'])\n",
    "plt.title('model loss')\n",
    "plt.ylabel('loss')\n",
    "plt.xlabel('epoch')\n",
    "plt.legend(['train', 'test'], loc='upper left')\n",
    "plt.show()"
   ]
  },
  {
   "cell_type": "code",
   "execution_count": null,
   "metadata": {},
   "outputs": [],
   "source": [
    "# Test\n",
    "y_pred = model.predict(X_test)\n",
    "\n",
    "# Check ROC, AUC\n",
    "fpr, tpr, thresholds = roc_curve(y_test, y_pred)\n",
    "auc = roc_auc_score(y_test, y_pred)\n",
    "print('AUC: %.3f' % auc)\n",
    "\n",
    "# Plot\n",
    "plt.plot([0, 1], [0, 1], linestyle='--')\n",
    "plt.plot(fpr, tpr, marker='.')\n",
    "plt.xlabel('FPR')\n",
    "plt.ylabel('TPR')\n",
    "plt.show()"
   ]
  }
 ]
}